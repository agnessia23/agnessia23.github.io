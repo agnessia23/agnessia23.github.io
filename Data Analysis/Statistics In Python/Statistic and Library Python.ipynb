{
  "nbformat": 4,
  "nbformat_minor": 0,
  "metadata": {
    "colab": {
      "provenance": []
    },
    "kernelspec": {
      "name": "python3",
      "display_name": "Python 3"
    },
    "language_info": {
      "name": "python"
    }
  },
  "cells": [
    {
      "cell_type": "markdown",
      "source": [
        "## **Persiapan**"
      ],
      "metadata": {
        "id": "uyBSSYqvyiIx"
      }
    },
    {
      "cell_type": "code",
      "execution_count": 63,
      "metadata": {
        "colab": {
          "base_uri": "https://localhost:8080/"
        },
        "id": "dLeZ8xXXyYRP",
        "outputId": "d9f6d2c9-260d-49a8-e3f7-1540c3138295"
      },
      "outputs": [
        {
          "output_type": "stream",
          "name": "stdout",
          "text": [
            "Requirement already satisfied: pandas in /usr/local/lib/python3.10/dist-packages (2.2.2)\n",
            "Requirement already satisfied: numpy in /usr/local/lib/python3.10/dist-packages (1.26.4)\n",
            "Requirement already satisfied: scipy in /usr/local/lib/python3.10/dist-packages (1.14.1)\n",
            "Requirement already satisfied: matplotlib in /usr/local/lib/python3.10/dist-packages (3.7.1)\n",
            "Requirement already satisfied: seaborn in /usr/local/lib/python3.10/dist-packages (0.13.2)\n",
            "Requirement already satisfied: pydataset in /usr/local/lib/python3.10/dist-packages (0.2.0)\n",
            "Requirement already satisfied: python-dateutil>=2.8.2 in /usr/local/lib/python3.10/dist-packages (from pandas) (2.8.2)\n",
            "Requirement already satisfied: pytz>=2020.1 in /usr/local/lib/python3.10/dist-packages (from pandas) (2024.2)\n",
            "Requirement already satisfied: tzdata>=2022.7 in /usr/local/lib/python3.10/dist-packages (from pandas) (2024.2)\n",
            "Requirement already satisfied: contourpy>=1.0.1 in /usr/local/lib/python3.10/dist-packages (from matplotlib) (1.3.0)\n",
            "Requirement already satisfied: cycler>=0.10 in /usr/local/lib/python3.10/dist-packages (from matplotlib) (0.12.1)\n",
            "Requirement already satisfied: fonttools>=4.22.0 in /usr/local/lib/python3.10/dist-packages (from matplotlib) (4.54.1)\n",
            "Requirement already satisfied: kiwisolver>=1.0.1 in /usr/local/lib/python3.10/dist-packages (from matplotlib) (1.4.7)\n",
            "Requirement already satisfied: packaging>=20.0 in /usr/local/lib/python3.10/dist-packages (from matplotlib) (24.1)\n",
            "Requirement already satisfied: pillow>=6.2.0 in /usr/local/lib/python3.10/dist-packages (from matplotlib) (10.4.0)\n",
            "Requirement already satisfied: pyparsing>=2.3.1 in /usr/local/lib/python3.10/dist-packages (from matplotlib) (3.2.0)\n",
            "Requirement already satisfied: six>=1.5 in /usr/local/lib/python3.10/dist-packages (from python-dateutil>=2.8.2->pandas) (1.16.0)\n"
          ]
        }
      ],
      "source": [
        "pip install pandas numpy scipy matplotlib seaborn pydataset"
      ]
    },
    {
      "cell_type": "markdown",
      "source": [
        "## **Nomor 1: Ukuran Pemusatan Data**\n",
        "### **a. Ukuran Pemusatan Data dengan Pandas**"
      ],
      "metadata": {
        "id": "ub0epsRDyqfY"
      }
    },
    {
      "cell_type": "code",
      "source": [
        "import pandas as pd\n",
        "\n",
        "# Membaca data\n",
        "data = pd.read_csv('/content/Nilai Ujian.csv')\n",
        "\n",
        "# Menghitung ukuran pemusatan data\n",
        "mean_uts = data['UTS'].mean()\n",
        "mean_uas = data['UAS'].mean()\n",
        "median_uts = data['UTS'].median()\n",
        "median_uas = data['UAS'].median()\n",
        "mode_uts = data['UTS'].mode()[0]\n",
        "mode_uas = data['UAS'].mode()[0]\n",
        "\n",
        "print(f'Mean UTS: {mean_uts}, Mean UAS: {mean_uas}')\n",
        "print(f'Median UTS: {median_uts}, Median UAS: {median_uas}')\n",
        "print(f'Mode UTS: {mode_uts}, Mode UAS: {mode_uas}')\n"
      ],
      "metadata": {
        "colab": {
          "base_uri": "https://localhost:8080/"
        },
        "id": "i6psnSdez9SW",
        "outputId": "3d1604f0-36f9-4308-e087-6d2457ee740f"
      },
      "execution_count": 77,
      "outputs": [
        {
          "output_type": "stream",
          "name": "stdout",
          "text": [
            "Mean UTS: 67.0923076923077, Mean UAS: 69.53846153846153\n",
            "Median UTS: 67.0, Median UAS: 74.0\n",
            "Mode UTS: 56, Mode UAS: 56\n"
          ]
        }
      ]
    },
    {
      "cell_type": "markdown",
      "source": [
        "### **b. Ukuran Pemusatan Data dengan Statistics**"
      ],
      "metadata": {
        "id": "g7d686nF0ry7"
      }
    },
    {
      "cell_type": "code",
      "source": [
        "import statistics as stats\n",
        "\n",
        "# Menghitung ukuran pemusatan data\n",
        "mean_uts_stats = stats.mean(data['UTS'])\n",
        "mean_uas_stats = stats.mean(data['UAS'])\n",
        "median_uts_stats = stats.median(data['UTS'])\n",
        "median_uas_stats = stats.median(data['UAS'])\n",
        "mode_uts_stats = stats.mode(data['UTS'])\n",
        "mode_uas_stats = stats.mode(data['UAS'])\n",
        "\n",
        "print(f'Mean UTS: {mean_uts_stats}, Mean UAS: {mean_uas_stats}')\n",
        "print(f'Median UTS: {median_uts_stats}, Median UAS: {median_uas_stats}')\n",
        "print(f'Mode UTS: {mode_uts_stats}, Mode UAS: {mode_uas_stats}')"
      ],
      "metadata": {
        "colab": {
          "base_uri": "https://localhost:8080/"
        },
        "id": "VJPJf7cK0vCP",
        "outputId": "264ce52e-9d82-42bb-c869-a0240c00bacc"
      },
      "execution_count": 78,
      "outputs": [
        {
          "output_type": "stream",
          "name": "stdout",
          "text": [
            "Mean UTS: 67.0923076923077, Mean UAS: 69.53846153846153\n",
            "Median UTS: 67, Median UAS: 74\n",
            "Mode UTS: 56, Mode UAS: 89\n"
          ]
        }
      ]
    },
    {
      "cell_type": "markdown",
      "source": [
        "### **c. Ukuran Pemusatan Data dengan Scipy**"
      ],
      "metadata": {
        "id": "o5frHdGU02Sz"
      }
    },
    {
      "cell_type": "code",
      "source": [
        "import numpy as np\n",
        "from scipy import stats\n",
        "\n",
        "# Menghitung ukuran pemusatan data\n",
        "mean_uts_scipy = stats.tmean(data['UTS'])\n",
        "mean_uas_scipy = stats.tmean(data['UAS'])\n",
        "# Menghitung median secara manual (Dalam Scipy Tidak ada mencari Median)\n",
        "def manual_median(arr):\n",
        "    sorted_arr = sorted(arr)\n",
        "    n = len(sorted_arr)\n",
        "    if n % 2 == 0:\n",
        "        return (sorted_arr[n//2 - 1] + sorted_arr[n//2]) / 2\n",
        "    else:\n",
        "        return sorted_arr[n//2]\n",
        "\n",
        "\n",
        "# Menghitung modus (Dalam Scipy Tidak ada mencari Modus)\n",
        "# Menghitung modus secara manual\n",
        "def manual_mode(arr):\n",
        "    frequency = {}\n",
        "    for item in arr:\n",
        "        if item in frequency:\n",
        "            frequency[item] += 1\n",
        "        else:\n",
        "            frequency[item] = 1\n",
        "    max_freq = max(frequency.values())\n",
        "    modes = [key for key, value in frequency.items() if value == max_freq]\n",
        "    return modes, max_freq\n",
        "\n",
        "# Menggunakan fungsi manual untuk menghitung median\n",
        "median_uts_scipy = manual_median(data['UTS'])\n",
        "median_uas_scipy = manual_median(data['UAS'])\n",
        "\n",
        "# Menghitung modus menggunakan SciPy\n",
        "mode_uts_scipy = stats.mode(data['UTS'])\n",
        "mode_uas_scipy = stats.mode(data['UAS'])\n",
        "\n",
        "print(f'Mean UTS: {mean_uts_scipy}, Mean UAS: {mean_uas_scipy}')\n",
        "print(f'Median UTS: {median_uts_scipy}, Median UAS: {median_uas_scipy}')\n",
        "print(f'Mode UTS: {mode_uts_scipy}, Mode UAS: {mode_uas_scipy}')"
      ],
      "metadata": {
        "colab": {
          "base_uri": "https://localhost:8080/"
        },
        "id": "xQXgOHNh0_Dc",
        "outputId": "a7e929b9-2f91-4ea7-f7bb-41138c4f9890"
      },
      "execution_count": 79,
      "outputs": [
        {
          "output_type": "stream",
          "name": "stdout",
          "text": [
            "Mean UTS: 67.0923076923077, Mean UAS: 69.53846153846153\n",
            "Median UTS: 67, Median UAS: 74\n",
            "Mode UTS: ModeResult(mode=56, count=7), Mode UAS: ModeResult(mode=56, count=6)\n"
          ]
        }
      ]
    },
    {
      "cell_type": "markdown",
      "source": [
        "### **d. Ukuran Pemusatan Data dengan Numpy**"
      ],
      "metadata": {
        "id": "Do7HsxdUzkBa"
      }
    },
    {
      "cell_type": "code",
      "source": [
        "import numpy as np\n",
        "\n",
        "# Menghitung ukuran pemusatan data\n",
        "mean_uts_numpy = np.mean(data['UTS'])\n",
        "mean_uas_numpy = np.mean(data['UAS'])\n",
        "median_uts_numpy = np.median(data['UTS'])\n",
        "median_uas_numpy = np.median(data['UAS'])\n",
        "\n",
        "# Menghitung modus\n",
        "def modus(arr):\n",
        "    values, counts = np.unique(arr, return_counts=True)\n",
        "    max_count_index = np.argmax(counts)  # Indeks dari nilai dengan frekuensi tertinggi\n",
        "    return values[max_count_index] if counts[max_count_index] > 1 else None  # Mengembalikan None jika tidak ada modus\n",
        "\n",
        "mode_uts_numpy = modus(data['UTS'])\n",
        "mode_uas_numpy = modus(data['UAS'])\n",
        "\n",
        "# Menampilkan hasil\n",
        "print(f'Mean UTS: {mean_uts_numpy}, Mean UAS: {mean_uas_numpy}')\n",
        "print(f'Median UTS: {median_uts_numpy}, Median UAS: {median_uas_numpy}')\n",
        "print(f'Mode UTS: {mode_uts_numpy}, Mode UAS: {mode_uas_numpy}')\n"
      ],
      "metadata": {
        "colab": {
          "base_uri": "https://localhost:8080/"
        },
        "id": "a8zuQZjA0-R9",
        "outputId": "a148d5ac-f743-4092-d3e6-b2ed0288db8d"
      },
      "execution_count": 80,
      "outputs": [
        {
          "output_type": "stream",
          "name": "stdout",
          "text": [
            "Mean UTS: 67.0923076923077, Mean UAS: 69.53846153846153\n",
            "Median UTS: 67.0, Median UAS: 74.0\n",
            "Mode UTS: 56, Mode UAS: 56\n"
          ]
        }
      ]
    },
    {
      "cell_type": "markdown",
      "source": [
        "## **Nomor 2: Ukuran Penyebaran Data**\n",
        "### **a. Ukuran Penyebaran Data dengan Pandas**"
      ],
      "metadata": {
        "id": "hwLIzAjp6Kj0"
      }
    },
    {
      "cell_type": "code",
      "source": [
        "# Menghitung ukuran penyebaran data\n",
        "std_uts = data['UTS'].std()\n",
        "std_uas = data['UAS'].std()\n",
        "var_uts = data['UTS'].var()\n",
        "var_uas = data['UAS'].var()\n",
        "range_uts = data['UTS'].max() - data['UTS'].min()\n",
        "range_uas = data['UAS'].max() - data['UAS'].min()\n",
        "# Menghitung simpangan rata-rata\n",
        "mean_uts = data['UTS'].mean()\n",
        "mean_uas = data['UAS'].mean()\n",
        "mad_uts = (data['UTS'] - mean_uts).abs().mean()  # Simpangan rata-rata UTS\n",
        "mad_uas = (data['UAS'] - mean_uas).abs().mean()  # Simpangan rata-rata UAS\n",
        "\n",
        "print(f'STD UTS: {std_uts}, STD UAS: {std_uas}')\n",
        "print(f'Variance UTS: {var_uts}, Variance UAS: {var_uas}')\n",
        "print(f'Range UTS: {range_uts}, Range UAS: {range_uas}')\n",
        "print(f'Simpangan Rata-rata UTS: {mad_uts}, Simpangan Rata-rata UAS: {mad_uas}')"
      ],
      "metadata": {
        "colab": {
          "base_uri": "https://localhost:8080/"
        },
        "id": "TH8pC0lr6KCN",
        "outputId": "4c3b0339-1127-44dc-c170-b918ab42cc9a"
      },
      "execution_count": 81,
      "outputs": [
        {
          "output_type": "stream",
          "name": "stdout",
          "text": [
            "STD UTS: 23.455891502005336, STD UAS: 19.807729648956585\n",
            "Variance UTS: 550.1788461538462, Variance UAS: 392.3461538461537\n",
            "Range UTS: 99, Range UAS: 74\n",
            "Simpangan Rata-rata UTS: 18.281183431952662, Simpangan Rata-rata UAS: 16.665088757396447\n"
          ]
        }
      ]
    },
    {
      "cell_type": "markdown",
      "source": [
        "### **b. Ukuran Penyebaran Data dengan Statistics**"
      ],
      "metadata": {
        "id": "BXc0kkTN6XSH"
      }
    },
    {
      "cell_type": "code",
      "source": [
        "import statistics\n",
        "# Mengubah kolom UTS dan UAS menjadi list\n",
        "uts_list = data['UTS'].tolist()\n",
        "uas_list = data['UAS'].tolist()\n",
        "\n",
        "# Menghitung Standar Deviasi dan Varians menggunakan Statistics\n",
        "std_uts_stats = statistics.stdev(uts_list)  # Menggunakan sample stdev\n",
        "std_uas_stats = statistics.stdev(uas_list)\n",
        "\n",
        "var_uts_stats = statistics.variance(uts_list)  # Menggunakan sample variance\n",
        "var_uas_stats = statistics.variance(uas_list)\n",
        "\n",
        "# Menghitung Range\n",
        "range_uts_stats = max(uts_list) - min(uts_list)\n",
        "range_uas_stats = max(uas_list) - min(uas_list)\n",
        "\n",
        "# Menghitung simpangan rata-rata\n",
        "mad_uts_stats = stats.mean([abs(x - mean_uts_stats) for x in data['UTS']])\n",
        "mad_uas_stats = stats.mean([abs(x - mean_uas_stats) for x in data['UAS']])\n",
        "\n",
        "# Menampilkan hasil\n",
        "print(f'STD UTS: {std_uts_stats}, STD UAS: {std_uas_stats}')\n",
        "print(f'Variance UTS: {var_uts_stats}, Variance UAS: {var_uas_stats}')\n",
        "print(f'Range UTS: {range_uts_stats}, Range UAS: {range_uas_stats}')\n",
        "print(f'Simpangan Rata-rata UTS: {mad_uts_stats}, Simpangan Rata-rata UAS: {mad_uas_stats}')"
      ],
      "metadata": {
        "colab": {
          "base_uri": "https://localhost:8080/"
        },
        "id": "pRw5clreruyy",
        "outputId": "2dd6adfe-30b2-4fc9-aa0e-08d6e549930d"
      },
      "execution_count": 85,
      "outputs": [
        {
          "output_type": "stream",
          "name": "stdout",
          "text": [
            "STD UTS: 23.455891502005336, STD UAS: 19.807729648956588\n",
            "Variance UTS: 550.1788461538462, Variance UAS: 392.34615384615387\n",
            "Range UTS: 99, Range UAS: 74\n",
            "Simpangan Rata-rata UTS: 18.281183431952662, Simpangan Rata-rata UAS: 16.66508875739645\n"
          ]
        }
      ]
    },
    {
      "cell_type": "markdown",
      "source": [
        "### **c. Ukuran Penyebaran Data dengan Scipy**"
      ],
      "metadata": {
        "id": "JD-gxEMg6eFB"
      }
    },
    {
      "cell_type": "code",
      "source": [
        "# Impor library scipy\n",
        "import scipy.stats as sc\n",
        "\n",
        "# Mengubah kolom UTS dan UAS menjadi array\n",
        "uts_array = data['UTS']\n",
        "uas_array = data['UAS']\n",
        "\n",
        "# Menghitung Standar Deviasi menggunakan Scipy\n",
        "std_uts_scipy = sc.tstd(uts_array)  # Standar deviasi untuk UTS\n",
        "std_uas_scipy = sc.tstd(uas_array)  # Standar deviasi untuk UAS\n",
        "\n",
        "# Menghitung Varians menggunakan Scipy\n",
        "var_uts_scipy = sc.tvar(uts_array)   # Varians untuk UTS\n",
        "var_uas_scipy = sc.tvar(uas_array)   # Varians untuk UAS\n",
        "\n",
        "# Menghitung Rentang (Range) menggunakan Scipy\n",
        "range_uts_scipy = sc.tmax(uts_array) - sc.tmin(uts_array)  # Rentang untuk UTS\n",
        "range_uas_scipy = sc.tmax(uas_array) - sc.tmin(uas_array)  # Rentang untuk UAS\n",
        "\n",
        "# Menghitung Simpangan Rata-rata (Mean Absolute Deviation) secara manual\n",
        "mean_uts = np.mean(uts_array)\n",
        "mean_uas = np.mean(uas_array)\n",
        "mad_uts_scipy = np.mean(np.abs(uts_array - mean_uts))  # Simpangan rata-rata UTS\n",
        "mad_uas_scipy = np.mean(np.abs(uas_array - mean_uas))  # Simpangan rata-rata UAS\n",
        "\n",
        "# Menampilkan hasil\n",
        "print(f'STD UTS (Scipy): {std_uts_scipy}, STD UAS (Scipy): {std_uas_scipy}')\n",
        "print(f'Variance UTS (Scipy): {var_uts_scipy}, Variance UAS (Scipy): {var_uas_scipy}')\n",
        "print(f'Range UTS (Scipy): {range_uts_scipy}, Range UAS (Scipy): {range_uas_scipy}')\n",
        "print(f'Simpangan Rata-rata UTS (Scipy): {mad_uts_scipy}, Simpangan Rata-rata UAS (Scipy): {mad_uas_scipy}')"
      ],
      "metadata": {
        "colab": {
          "base_uri": "https://localhost:8080/"
        },
        "id": "-N5QOd-Y-jLr",
        "outputId": "fee5ddb0-5c3c-4334-b9fb-14c965aa8670"
      },
      "execution_count": 87,
      "outputs": [
        {
          "output_type": "stream",
          "name": "stdout",
          "text": [
            "STD UTS (Scipy): 23.45589150200534, STD UAS (Scipy): 19.807729648956585\n",
            "Variance UTS (Scipy): 550.1788461538463, Variance UAS (Scipy): 392.3461538461538\n",
            "Range UTS (Scipy): 99, Range UAS (Scipy): 74\n",
            "Simpangan Rata-rata UTS (Scipy): 18.281183431952662, Simpangan Rata-rata UAS (Scipy): 16.665088757396447\n"
          ]
        }
      ]
    },
    {
      "cell_type": "markdown",
      "source": [
        "### **d. Ukuran Penyebaran Data dengan Numpy**"
      ],
      "metadata": {
        "id": "8zP67o2n6guy"
      }
    },
    {
      "cell_type": "code",
      "source": [
        "# Impor library scipy\n",
        "import scipy.stats as sc\n",
        "\n",
        "# Mengubah kolom UTS dan UAS menjadi array\n",
        "uts_array = data['UTS']\n",
        "uas_array = data['UAS']\n",
        "\n",
        "# Menghitung Standar Deviasi menggunakan Scipy\n",
        "std_uts_scipy = sc.tstd(uts_array)  # Standar deviasi untuk UTS\n",
        "std_uas_scipy = sc.tstd(uas_array)  # Standar deviasi untuk UAS\n",
        "\n",
        "# Menghitung Varians menggunakan Scipy\n",
        "var_uts_scipy = sc.tvar(uts_array)   # Varians untuk UTS\n",
        "var_uas_scipy = sc.tvar(uas_array)   # Varians untuk UAS\n",
        "\n",
        "# Menghitung Rentang (Range) menggunakan Scipy\n",
        "range_uts_scipy = sc.tmax(uts_array) - sc.tmin(uts_array)  # Rentang untuk UTS\n",
        "range_uas_scipy = sc.tmax(uas_array) - sc.tmin(uas_array)  # Rentang untuk UAS\n",
        "\n",
        "# Menghitung Simpangan Rata-rata (Mean Absolute Deviation) menggunakan Scipy\n",
        "mean_uts = sc.tmean(uts_array)\n",
        "mean_uas = sc.tmean(uas_array)\n",
        "mad_uts_scipy = sc.tmean([abs(x - mean_uts) for x in uts_array])  # Simpangan rata-rata UTS\n",
        "mad_uas_scipy = sc.tmean([abs(x - mean_uas) for x in uas_array])  # Simpangan rata-rata UAS\n",
        "\n",
        "# Menampilkan hasil\n",
        "print(f'STD UTS (Scipy): {std_uts_scipy}, STD UAS (Scipy): {std_uas_scipy}')\n",
        "print(f'Variance UTS (Scipy): {var_uts_scipy}, Variance UAS (Scipy): {var_uas_scipy}')\n",
        "print(f'Range UTS (Scipy): {range_uts_scipy}, Range UAS (Scipy): {range_uas_scipy}')\n",
        "print(f'Simpangan Rata-rata UTS (Scipy): {mad_uts_scipy}, Simpangan Rata-rata UAS (Scipy): {mad_uas_scipy}')\n"
      ],
      "metadata": {
        "colab": {
          "base_uri": "https://localhost:8080/"
        },
        "id": "OV_uv91NCzJh",
        "outputId": "57174fa6-2bc2-4808-ccc6-ff3aa7853b67"
      },
      "execution_count": 89,
      "outputs": [
        {
          "output_type": "stream",
          "name": "stdout",
          "text": [
            "STD UTS (Scipy): 23.45589150200534, STD UAS (Scipy): 19.807729648956585\n",
            "Variance UTS (Scipy): 550.1788461538463, Variance UAS (Scipy): 392.3461538461538\n",
            "Range UTS (Scipy): 99, Range UAS (Scipy): 74\n",
            "Simpangan Rata-rata UTS (Scipy): 18.281183431952662, Simpangan Rata-rata UAS (Scipy): 16.665088757396447\n"
          ]
        }
      ]
    },
    {
      "cell_type": "markdown",
      "source": [
        "## **Nomor 3: Skwness dan Kurtosis**\n",
        "### **a. Menghitung Skewness dan Kurtosis dengan Library Pandas**"
      ],
      "metadata": {
        "id": "_i09SzVPEH_I"
      }
    },
    {
      "cell_type": "code",
      "source": [
        "import pandas as pd\n",
        "\n",
        "# Menghitung skewness dan kurtosis dengan Pandas\n",
        "skewness_uts_pandas = data['UTS'].skew()\n",
        "kurtosis_uts_pandas = data['UTS'].kurtosis()\n",
        "\n",
        "skewness_uas_pandas = data['UAS'].skew()\n",
        "kurtosis_uas_pandas = data['UAS'].kurtosis()\n",
        "\n",
        "print(f'Skewness UTS (Pandas): {skewness_uts_pandas}, Kurtosis UTS (Pandas): {kurtosis_uts_pandas}')\n",
        "print(f'Skewness UAS (Pandas): {skewness_uas_pandas}, Kurtosis UAS (Pandas): {kurtosis_uas_pandas}')\n"
      ],
      "metadata": {
        "colab": {
          "base_uri": "https://localhost:8080/"
        },
        "id": "PqZij4I2EDAF",
        "outputId": "bb7d7517-830b-4e6a-8e47-d7612316ace1"
      },
      "execution_count": 90,
      "outputs": [
        {
          "output_type": "stream",
          "name": "stdout",
          "text": [
            "Skewness UTS (Pandas): -1.0179810032778769, Kurtosis UTS (Pandas): 1.1115190656989915\n",
            "Skewness UAS (Pandas): -0.6826950952262426, Kurtosis UAS (Pandas): -0.5077685179968339\n"
          ]
        }
      ]
    },
    {
      "cell_type": "markdown",
      "source": [
        "### **b. Menghitung Skewness dan Kurtosis dengan Library Statistics**"
      ],
      "metadata": {
        "id": "t1mdXTDkEULS"
      }
    },
    {
      "cell_type": "code",
      "source": [
        "import statistics as stats\n",
        "\n",
        "# Fungsi untuk menghitung skewness dan kurtosis dengan Statistics\n",
        "def skewness(arr):\n",
        "    n = len(arr)\n",
        "    mean = stats.mean(arr)\n",
        "    stdev = stats.stdev(arr)\n",
        "    return (n / ((n - 1) * (n - 2))) * np.sum(((arr - mean) / stdev) ** 3)\n",
        "\n",
        "def kurtosis(arr):\n",
        "    n = len(arr)\n",
        "    mean = stats.mean(arr)\n",
        "    stdev = stats.stdev(arr)\n",
        "    return ((n * (n + 1)) / ((n - 1) * (n - 2) * (n - 3))) * np.sum(((arr - mean) / stdev) ** 4) - (3 * ((n - 1) ** 2) / ((n - 2) * (n - 3)))\n",
        "\n",
        "# Menghitung skewness dan kurtosis\n",
        "skewness_uts_stats = skewness(data['UTS'])\n",
        "kurtosis_uts_stats = kurtosis(data['UTS'])\n",
        "\n",
        "skewness_uas_stats = skewness(data['UAS'])\n",
        "kurtosis_uas_stats = kurtosis(data['UAS'])\n",
        "\n",
        "print(f'Skewness UTS (Statistics): {skewness_uts_stats}, Kurtosis UTS (Statistics): {kurtosis_uts_stats}')\n",
        "print(f'Skewness UAS (Statistics): {skewness_uas_stats}, Kurtosis UAS (Statistics): {kurtosis_uas_stats}')\n"
      ],
      "metadata": {
        "colab": {
          "base_uri": "https://localhost:8080/"
        },
        "id": "cVbE39pxEgT3",
        "outputId": "212f647e-8c8a-43bf-ba87-abe93a84121c"
      },
      "execution_count": 91,
      "outputs": [
        {
          "output_type": "stream",
          "name": "stdout",
          "text": [
            "Skewness UTS (Statistics): -1.0179810032778773, Kurtosis UTS (Statistics): 1.1115190656989942\n",
            "Skewness UAS (Statistics): -0.6826950952262424, Kurtosis UAS (Statistics): -0.5077685179968352\n"
          ]
        }
      ]
    },
    {
      "cell_type": "markdown",
      "source": [
        "### **c. Menghitung Skewness dan Kurtosis dengan Library Scipy**"
      ],
      "metadata": {
        "id": "v01Ws_f6EZAa"
      }
    },
    {
      "cell_type": "code",
      "source": [
        "from scipy import stats\n",
        "\n",
        "# Menghitung skewness dan kurtosis dengan Scipy\n",
        "skewness_uts_scipy = stats.skew(data['UTS'])\n",
        "kurtosis_uts_scipy = stats.kurtosis(data['UTS'])\n",
        "\n",
        "skewness_uas_scipy = stats.skew(data['UAS'])\n",
        "kurtosis_uas_scipy = stats.kurtosis(data['UAS'])\n",
        "\n",
        "print(f'Skewness UTS (Scipy): {skewness_uts_scipy}, Kurtosis UTS (Scipy): {kurtosis_uts_scipy}')\n",
        "print(f'Skewness UAS (Scipy): {skewness_uas_scipy}, Kurtosis UAS (Scipy): {kurtosis_uas_scipy}')\n"
      ],
      "metadata": {
        "colab": {
          "base_uri": "https://localhost:8080/"
        },
        "id": "XoXtsAJVEwoo",
        "outputId": "5c237792-ab0c-4ee8-f2ed-00c69694abc5"
      },
      "execution_count": 92,
      "outputs": [
        {
          "output_type": "stream",
          "name": "stdout",
          "text": [
            "Skewness UTS (Scipy): -0.9943369030226171, Kurtosis UTS (Scipy): 0.9369302724006294\n",
            "Skewness UAS (Scipy): -0.6668385014162135, Kurtosis UAS (Scipy): -0.5604507176362765\n"
          ]
        }
      ]
    },
    {
      "cell_type": "markdown",
      "source": [
        "### **d. Menghitung Skewness dan Kurtosis dengan Library Numpy**"
      ],
      "metadata": {
        "id": "abR1C9Z9EdWT"
      }
    },
    {
      "cell_type": "code",
      "source": [
        "import numpy as np\n",
        "\n",
        "# Fungsi untuk menghitung skewness dan kurtosis dengan Numpy\n",
        "def skewness_numpy(arr):\n",
        "    n = len(arr)\n",
        "    mean = np.mean(arr)\n",
        "    stddev = np.std(arr, ddof=1)\n",
        "    return (n / ((n - 1) * (n - 2))) * np.sum(((arr - mean) / stddev) ** 3)\n",
        "\n",
        "def kurtosis_numpy(arr):\n",
        "    n = len(arr)\n",
        "    mean = np.mean(arr)\n",
        "    stddev = np.std(arr, ddof=1)\n",
        "    return ((n * (n + 1)) / ((n - 1) * (n - 2) * (n - 3))) * np.sum(((arr - mean) / stddev) ** 4) - (3 * ((n - 1) ** 2) / ((n - 2) * (n - 3)))\n",
        "\n",
        "# Menghitung skewness dan kurtosis\n",
        "skewness_uts_numpy = skewness_numpy(data['UTS'])\n",
        "kurtosis_uts_numpy = kurtosis_numpy(data['UTS'])\n",
        "\n",
        "skewness_uas_numpy = skewness_numpy(data['UAS'])\n",
        "kurtosis_uas_numpy = kurtosis_numpy(data['UAS'])\n",
        "\n",
        "print(f'Skewness UTS (Numpy): {skewness_uts_numpy}, Kurtosis UTS (Numpy): {kurtosis_uts_numpy}')\n",
        "print(f'Skewness UAS (Numpy): {skewness_uas_numpy}, Kurtosis UAS (Numpy): {kurtosis_uas_numpy}')\n"
      ],
      "metadata": {
        "colab": {
          "base_uri": "https://localhost:8080/"
        },
        "id": "6Pp_v2cBE0_t",
        "outputId": "054c5816-4523-4df8-b329-a85c39486854"
      },
      "execution_count": 93,
      "outputs": [
        {
          "output_type": "stream",
          "name": "stdout",
          "text": [
            "Skewness UTS (Numpy): -1.0179810032778773, Kurtosis UTS (Numpy): 1.1115190656989942\n",
            "Skewness UAS (Numpy): -0.6826950952262426, Kurtosis UAS (Numpy): -0.5077685179968339\n"
          ]
        }
      ]
    },
    {
      "cell_type": "markdown",
      "source": [
        "## **Nomor 4: Library Scikit-Learn**\n",
        "### **a. Ukuran Pemusatan Data**"
      ],
      "metadata": {
        "id": "-AClsC7mFxEV"
      }
    },
    {
      "cell_type": "code",
      "source": [
        "from sklearn.preprocessing import FunctionTransformer\n",
        "from scipy.stats import skew, kurtosis  # Import untuk skewness dan kurtosis\n",
        "\n",
        "# Menghitung pemusatan data\n",
        "mean_sklearn = data[['UTS', 'UAS']].mean()\n",
        "median_sklearn = data[['UTS', 'UAS']].median()\n",
        "mode_sklearn = data[['UTS', 'UAS']].mode().iloc[0]\n",
        "print(\"Scikit-Learn Mean:\\n\", mean_sklearn)\n",
        "print(\"Scikit-Learn Median:\\n\", median_sklearn)\n",
        "print(\"Scikit-Learn Mode:\\n\", mode_sklearn)"
      ],
      "metadata": {
        "colab": {
          "base_uri": "https://localhost:8080/"
        },
        "id": "qPBFsuwHI2U_",
        "outputId": "cefe9027-d421-4ed1-c631-19183225ab2a"
      },
      "execution_count": 94,
      "outputs": [
        {
          "output_type": "stream",
          "name": "stdout",
          "text": [
            "Scikit-Learn Mean:\n",
            " UTS    67.092308\n",
            "UAS    69.538462\n",
            "dtype: float64\n",
            "Scikit-Learn Median:\n",
            " UTS    67.0\n",
            "UAS    74.0\n",
            "dtype: float64\n",
            "Scikit-Learn Mode:\n",
            " UTS    56.0\n",
            "UAS    56.0\n",
            "Name: 0, dtype: float64\n"
          ]
        }
      ]
    },
    {
      "cell_type": "markdown",
      "source": [
        "### **b. Ukuran Penyebaran Data**"
      ],
      "metadata": {
        "id": "hZfE3VzDIsRg"
      }
    },
    {
      "cell_type": "code",
      "source": [
        "# Menghitung Standar Deviasi, Varians, dan Rentang\n",
        "std_dev_sklearn = data[['UTS', 'UAS']].std()\n",
        "variance_sklearn = data[['UTS', 'UAS']].var()\n",
        "range_sklearn = data[['UTS', 'UAS']].max() - data[['UTS', 'UAS']].min()\n",
        "\n",
        "# Menghitung Simpangan Rata-rata\n",
        "mean_uts = data['UTS'].mean()\n",
        "mean_uas = data['UAS'].mean()\n",
        "mad_uts = (data['UTS'] - mean_uts).abs().mean()  # Simpangan rata-rata UTS\n",
        "mad_uas = (data['UAS'] - mean_uas).abs().mean()  # Simpangan rata-rata UAS\n",
        "\n",
        "# Menampilkan hasil\n",
        "print(\"Scikit-Learn Standard Deviation:\\n\", std_dev_sklearn)\n",
        "print(\"Scikit-Learn Variance:\\n\", variance_sklearn)\n",
        "print(\"Scikit-Learn Range:\\n\", range_sklearn)\n",
        "print(f'Simpangan Rata-rata UTS: {mad_uts}, Simpangan Rata-rata UAS: {mad_uas}')\n"
      ],
      "metadata": {
        "colab": {
          "base_uri": "https://localhost:8080/"
        },
        "id": "9-pA-TIYJoQQ",
        "outputId": "76cf4ec8-b50e-43e1-ccca-2b0f48b66f1b"
      },
      "execution_count": 95,
      "outputs": [
        {
          "output_type": "stream",
          "name": "stdout",
          "text": [
            "Scikit-Learn Standard Deviation:\n",
            " UTS    23.455892\n",
            "UAS    19.807730\n",
            "dtype: float64\n",
            "Scikit-Learn Variance:\n",
            " UTS    550.178846\n",
            "UAS    392.346154\n",
            "dtype: float64\n",
            "Scikit-Learn Range:\n",
            " UTS    99\n",
            "UAS    74\n",
            "dtype: int64\n",
            "Simpangan Rata-rata UTS: 18.281183431952662, Simpangan Rata-rata UAS: 16.665088757396447\n"
          ]
        }
      ]
    },
    {
      "cell_type": "markdown",
      "source": [
        "### **c. Skewness dan Kurtosis Data**"
      ],
      "metadata": {
        "id": "5o54iU81Iuoi"
      }
    },
    {
      "cell_type": "code",
      "source": [
        "# Menghitung Skewness dan Kurtosis\n",
        "skewness_sklearn = skew(data[['UTS', 'UAS']])\n",
        "kurtosis_sklearn = kurtosis(data[['UTS', 'UAS']])\n",
        "\n",
        "print(\"Scikit-Learn Skewness:\\n\", skewness_sklearn)\n",
        "print(\"Scikit-Learn Kurtosis:\\n\", kurtosis_sklearn)"
      ],
      "metadata": {
        "colab": {
          "base_uri": "https://localhost:8080/"
        },
        "id": "LDZvsmRoGxav",
        "outputId": "8e3deff7-6c08-456a-ee00-35508b4e3f55"
      },
      "execution_count": 96,
      "outputs": [
        {
          "output_type": "stream",
          "name": "stdout",
          "text": [
            "Scikit-Learn Skewness:\n",
            " [-0.9943369 -0.6668385]\n",
            "Scikit-Learn Kurtosis:\n",
            " [ 0.93693027 -0.56045072]\n"
          ]
        }
      ]
    },
    {
      "cell_type": "markdown",
      "source": [
        "## **No.5**\n",
        "Misalkan x berdistribusi normal dengan mean 50 dan simpangan baku 6.\n",
        "Sekitar 68% nilai x berada dalam satu standar deviasi mean. Oleh karena itu, sekitar 68% nilai x terletak di antara? Sekitar 95% nilai x berada dalam dua standar deviasi mean. Oleh karena itu, sekitar 95% nilai x terletak di antara? Sekitar 99,7% nilai x berada dalam tiga standar deviasi mean. Oleh karena itu, sekitar 99,7% nilai x berada di antara?\n"
      ],
      "metadata": {
        "id": "iXTPAoE6J8ek"
      }
    },
    {
      "cell_type": "code",
      "source": [
        "# Mengimpor library yang diperlukan\n",
        "import numpy as np\n",
        "\n",
        "# Parameter distribusi normal\n",
        "mean = 50\n",
        "std_dev = 6\n",
        "\n",
        "# a. Menghitung rentang untuk 68% nilai (1 standar deviasi)\n",
        "lower_bound_68 = mean - std_dev\n",
        "upper_bound_68 = mean + std_dev\n",
        "print(f\"a. Sekitar 68% nilai x terletak di antara {lower_bound_68} dan {upper_bound_68}.\")\n",
        "\n",
        "# b. Menghitung rentang untuk 95% nilai (2 standar deviasi)\n",
        "lower_bound_95 = mean - 2 * std_dev\n",
        "upper_bound_95 = mean + 2 * std_dev\n",
        "print(f\"b. Sekitar 95% nilai x terletak di antara {lower_bound_95} dan {upper_bound_95}.\")\n",
        "\n",
        "# c. Menghitung rentang untuk 99,7% nilai (3 standar deviasi)\n",
        "lower_bound_99_7 = mean - 3 * std_dev\n",
        "upper_bound_99_7 = mean + 3 * std_dev\n",
        "print(f\"c. Sekitar 99,7% nilai x terletak di antara {lower_bound_99_7} dan {upper_bound_99_7}.\")\n"
      ],
      "metadata": {
        "colab": {
          "base_uri": "https://localhost:8080/"
        },
        "id": "rFYgK6e8KeQG",
        "outputId": "a9f50a78-14d6-4113-f8ed-f370c475d456"
      },
      "execution_count": 97,
      "outputs": [
        {
          "output_type": "stream",
          "name": "stdout",
          "text": [
            "a. Sekitar 68% nilai x terletak di antara 44 dan 56.\n",
            "b. Sekitar 95% nilai x terletak di antara 38 dan 62.\n",
            "c. Sekitar 99,7% nilai x terletak di antara 32 dan 68.\n"
          ]
        }
      ]
    },
    {
      "cell_type": "markdown",
      "source": [
        "## **No.6**\n",
        "Rata-rata tinggi badan laki-laki usia 15 hingga 18 tahun dari tahun 2009 hingga 2010 adalah 170 cm dengan standar deviasi 6,78 cm. Tinggi badan laki-laki diketahui mengikuti distribusi normal.\n",
        "\n",
        "*   Misalkan x= tinggi badan laki-laki berumur 15 sampai 18 tahun pada tahun 2009 sampai 2010.\n",
        "Misalkan seorang laki-laki berusia 15 hingga 18 tahun memiliki tinggi 168 cm dari tahun 2009 hingga 2010. Terapakah z score x=168 cm?\n",
        "*   Misalkan tinggi badan seorang laki-laki berusia 15 hingga 18 tahun dari tahun 2009 hingga 2010 memiliki z-score z=1,27. Berapa tinggi badan laki-laki tersebut?\n",
        "\n",
        "\n"
      ],
      "metadata": {
        "id": "gK2OGKKfK3Vu"
      }
    },
    {
      "cell_type": "code",
      "source": [
        "# Mengimpor library yang diperlukan\n",
        "import numpy as np\n",
        "\n",
        "# Parameter distribusi normal\n",
        "mean_height = 170  # rata-rata tinggi badan dalam cm\n",
        "std_dev_height = 6.78  # simpangan baku dalam cm\n",
        "\n",
        "# a. Menghitung Z-score untuk tinggi badan 168 cm\n",
        "height_x = 168\n",
        "z_score = (height_x - mean_height) / std_dev_height\n",
        "print(f\"a. Z-score untuk tinggi badan {height_x} cm adalah {z_score:.2f}.\")\n",
        "\n",
        "# b. Menghitung tinggi badan berdasarkan Z-score 1.27\n",
        "z_score_given = 1.27\n",
        "height_based_on_z = mean_height + z_score_given * std_dev_height\n",
        "print(f\"b. Tinggi badan yang sesuai dengan Z-score {z_score_given} adalah {height_based_on_z:.2f} cm.\")\n"
      ],
      "metadata": {
        "colab": {
          "base_uri": "https://localhost:8080/"
        },
        "id": "WrRCEjrHLVkG",
        "outputId": "91b6dc92-8fb0-4b3f-82c5-3cc794a615fe"
      },
      "execution_count": 98,
      "outputs": [
        {
          "output_type": "stream",
          "name": "stdout",
          "text": [
            "a. Z-score untuk tinggi badan 168 cm adalah -0.29.\n",
            "b. Tinggi badan yang sesuai dengan Z-score 1.27 adalah 178.61 cm.\n"
          ]
        }
      ]
    },
    {
      "cell_type": "markdown",
      "source": [
        "## **No.7**\n",
        "Rata-rata tinggi badan laki-laki usia 15 hingga 18 tahun dari tahun 2009 hingga 2010 adalah 170 cm dengan standar deviasi 6,78 cm. Tinggi badan laki-laki diketahui mengikuti distribusi normal.\n",
        "\n",
        "*   Misalkan x= tinggi badan laki-laki berumur 15 sampai 18 tahun pada tahun 2009 sampai 2010.\n",
        "Misalkan seorang laki-laki berusia 15 hingga 18 tahun memiliki tinggi 168 cm dari tahun 2009 hingga 2010. Terapakah z score x=168 cm?\n",
        "*   Misalkan tinggi badan seorang laki-laki berusia 15 hingga 18 tahun dari tahun 2009 hingga 2010 memiliki z-score z=1,27. Berapa tinggi badan laki-laki tersebut?"
      ],
      "metadata": {
        "id": "nf_yL-MtMqfB"
      }
    },
    {
      "cell_type": "code",
      "source": [
        "# Mengimpor library yang diperlukan\n",
        "import pandas as pd\n",
        "import seaborn as sns\n",
        "import matplotlib.pyplot as plt\n",
        "from pydataset import data\n",
        "import scipy.stats as stats\n",
        "\n",
        "# Mengambil data iris dari pydataset\n",
        "iris = data('iris')\n",
        "\n",
        "# a. Visualisasikan masing-masing jenis bunga dengan menggunakan boxplot (matplotlib)\n",
        "plt.figure(figsize=(12, 6))\n",
        "plt.boxplot([iris[iris['Species'] == species]['Sepal.Length'] for species in iris['Species'].unique()],\n",
        "            labels=iris['Species'].unique())\n",
        "plt.title('Boxplot Panjang Sepal untuk Setiap Jenis Bunga (Matplotlib)')\n",
        "plt.xlabel('Species')\n",
        "plt.ylabel('Panjang Sepal (cm)')\n",
        "plt.grid()\n",
        "plt.show()\n"
      ],
      "metadata": {
        "colab": {
          "base_uri": "https://localhost:8080/",
          "height": 484
        },
        "id": "J0qn_K6NM_IG",
        "outputId": "96d6ab43-b8f2-419d-ec28-41c1c481709c"
      },
      "execution_count": 99,
      "outputs": [
        {
          "output_type": "display_data",
          "data": {
            "text/plain": [
              "<Figure size 1200x600 with 1 Axes>"
            ],
            "image/png": "[encoded data removed]"
          },
          "metadata": {}
        }
      ]
    },
    {
      "cell_type": "code",
      "source": [
        "# b. Visualisasikan masing-masing jenis bunga dengan menggunakan boxplot (seaborn)\n",
        "plt.figure(figsize=(12, 6))\n",
        "sns.boxplot(x='Species', y='Sepal.Length', data=iris)\n",
        "plt.title('Boxplot Panjang Sepal untuk Setiap Jenis Bunga (Seaborn)')\n",
        "plt.xlabel('Species')\n",
        "plt.ylabel('Panjang Sepal (cm)')\n",
        "plt.show()"
      ],
      "metadata": {
        "colab": {
          "base_uri": "https://localhost:8080/",
          "height": 484
        },
        "id": "pppE7M5PNPJ4",
        "outputId": "46474d7c-fdaa-406f-f633-57c1abcf69f5"
      },
      "execution_count": 100,
      "outputs": [
        {
          "output_type": "display_data",
          "data": {
            "text/plain": [
              "<Figure size 1200x600 with 1 Axes>"
            ],
            "image/png": "[encoded data removed]"
          },
          "metadata": {}
        }
      ]
    },
    {
      "cell_type": "markdown",
      "source": [
        "## **c. Bandingkan perbedaan antara ketiga species**\n",
        "Terdapat perbedaan nyata antara ketiga spesies dalam hal panjang sepal\n",
        "Setosa memiliki karakteristik yang paling berbeda dengan sepal terpendek dan variasi terkecil\n",
        "Virginica memiliki sepal terpanjang dengan variasi terbesar\n",
        "Meskipun ada sedikit tumpang tindih antara Versicolor dan Virginica, ketiga spesies dapat dibedakan dengan baik berdasarkan panjang sepal mereka"
      ],
      "metadata": {
        "id": "tGoccigoNqZ6"
      }
    },
    {
      "cell_type": "code",
      "source": [
        "# Menyimpan median dan IQR untuk analisis\n",
        "median_values = iris.groupby('Species')['Sepal.Length'].median()\n",
        "iqr_values = iris.groupby('Species')['Sepal.Length'].quantile(0.75) - iris.groupby('Species')['Sepal.Length'].quantile(0.25)\n",
        "\n",
        "print(\"Median Panjang Sepal untuk setiap spesies:\")\n",
        "print(median_values)\n",
        "\n",
        "print(\"\\nIQR Panjang Sepal untuk setiap spesies:\")\n",
        "print(iqr_values)\n"
      ],
      "metadata": {
        "colab": {
          "base_uri": "https://localhost:8080/"
        },
        "id": "YhlHa9mINWgP",
        "outputId": "d2e81b72-0f28-48ae-a25a-993b53454199"
      },
      "execution_count": 101,
      "outputs": [
        {
          "output_type": "stream",
          "name": "stdout",
          "text": [
            "Median Panjang Sepal untuk setiap spesies:\n",
            "Species\n",
            "setosa        5.0\n",
            "versicolor    5.9\n",
            "virginica     6.5\n",
            "Name: Sepal.Length, dtype: float64\n",
            "\n",
            "IQR Panjang Sepal untuk setiap spesies:\n",
            "Species\n",
            "setosa        0.400\n",
            "versicolor    0.700\n",
            "virginica     0.675\n",
            "Name: Sepal.Length, dtype: float64\n"
          ]
        }
      ]
    },
    {
      "cell_type": "code",
      "source": [
        "# d. Menghitung peluang panjang sepal iris lebih besar dari 7.7 cm\n",
        "mean_sepal_length = 5.84\n",
        "std_dev_sepal_length = 0.8\n",
        "x = 7.7\n",
        "\n",
        "# Menghitung z-score\n",
        "z = (x - mean_sepal_length) / std_dev_sepal_length\n",
        "\n",
        "# Menghitung peluang menggunakan distribusi normal\n",
        "p_value = 1 - stats.norm.cdf(z)\n",
        "\n",
        "print(f\"\\nPeluang panjang sepal iris lebih besar dari {x} cm adalah {p_value:.4f}.\")\n"
      ],
      "metadata": {
        "colab": {
          "base_uri": "https://localhost:8080/"
        },
        "id": "afcH4weVN3PQ",
        "outputId": "f3b8f608-39ba-4779-ffb6-39ea145eae57"
      },
      "execution_count": 102,
      "outputs": [
        {
          "output_type": "stream",
          "name": "stdout",
          "text": [
            "\n",
            "Peluang panjang sepal iris lebih besar dari 7.7 cm adalah 0.0100.\n"
          ]
        }
      ]
    },
    {
      "cell_type": "code",
      "source": [],
      "metadata": {
        "id": "dZAF5lcDMoq2"
      },
      "execution_count": null,
      "outputs": []
    }
  ]
}